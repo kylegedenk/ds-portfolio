{
 "cells": [
  {
   "cell_type": "code",
   "execution_count": 2,
   "id": "7e698372",
   "metadata": {},
   "outputs": [],
   "source": [
    "# The purpose of this project is to analyze stock price information regarding\n",
    "# Apple Inc. (AAPL)\n",
    "# Date information was pulled: 27th of September, 2021\n",
    "# Time range pulled: Previous 6 Months\n",
    "# Source: https://www.nasdaq.com/market-activity/stocks/aapl/historical"
   ]
  },
  {
   "cell_type": "code",
   "execution_count": 3,
   "id": "0d7cdbb7",
   "metadata": {},
   "outputs": [],
   "source": [
    "# Importing libraries\n",
    "\n",
    "from matplotlib import pyplot as plt\n",
    "import pandas as pd\n",
    "import numpy as np\n",
    "from datetime import datetime"
   ]
  },
  {
   "cell_type": "code",
   "execution_count": 4,
   "id": "4453175a",
   "metadata": {},
   "outputs": [],
   "source": [
    "# Importing dataset\n",
    "# I downloaded it, locally, and will use my local drive to import\n",
    "\n",
    "aapl_hist = pd.read_csv(\"apple_stock.csv\")"
   ]
  },
  {
   "cell_type": "code",
   "execution_count": 5,
   "id": "0c0f0e05",
   "metadata": {},
   "outputs": [
    {
     "data": {
      "text/html": [
       "<div>\n",
       "<style scoped>\n",
       "    .dataframe tbody tr th:only-of-type {\n",
       "        vertical-align: middle;\n",
       "    }\n",
       "\n",
       "    .dataframe tbody tr th {\n",
       "        vertical-align: top;\n",
       "    }\n",
       "\n",
       "    .dataframe thead th {\n",
       "        text-align: right;\n",
       "    }\n",
       "</style>\n",
       "<table border=\"1\" class=\"dataframe\">\n",
       "  <thead>\n",
       "    <tr style=\"text-align: right;\">\n",
       "      <th></th>\n",
       "      <th>Date</th>\n",
       "      <th>Close/Last</th>\n",
       "      <th>Volume</th>\n",
       "      <th>Open</th>\n",
       "      <th>High</th>\n",
       "      <th>Low</th>\n",
       "    </tr>\n",
       "  </thead>\n",
       "  <tbody>\n",
       "    <tr>\n",
       "      <th>0</th>\n",
       "      <td>09/24/2021</td>\n",
       "      <td>$146.92</td>\n",
       "      <td>53477870</td>\n",
       "      <td>$145.66</td>\n",
       "      <td>$147.4701</td>\n",
       "      <td>$145.56</td>\n",
       "    </tr>\n",
       "    <tr>\n",
       "      <th>1</th>\n",
       "      <td>09/23/2021</td>\n",
       "      <td>$146.83</td>\n",
       "      <td>64838170</td>\n",
       "      <td>$146.65</td>\n",
       "      <td>$147.08</td>\n",
       "      <td>$145.64</td>\n",
       "    </tr>\n",
       "    <tr>\n",
       "      <th>2</th>\n",
       "      <td>09/22/2021</td>\n",
       "      <td>$145.85</td>\n",
       "      <td>76404340</td>\n",
       "      <td>$144.45</td>\n",
       "      <td>$146.43</td>\n",
       "      <td>$143.7001</td>\n",
       "    </tr>\n",
       "    <tr>\n",
       "      <th>3</th>\n",
       "      <td>09/21/2021</td>\n",
       "      <td>$143.43</td>\n",
       "      <td>75833960</td>\n",
       "      <td>$143.93</td>\n",
       "      <td>$144.6</td>\n",
       "      <td>$142.78</td>\n",
       "    </tr>\n",
       "    <tr>\n",
       "      <th>4</th>\n",
       "      <td>09/20/2021</td>\n",
       "      <td>$142.94</td>\n",
       "      <td>123478900</td>\n",
       "      <td>$143.8</td>\n",
       "      <td>$144.84</td>\n",
       "      <td>$141.27</td>\n",
       "    </tr>\n",
       "  </tbody>\n",
       "</table>\n",
       "</div>"
      ],
      "text/plain": [
       "         Date Close/Last     Volume     Open       High        Low\n",
       "0  09/24/2021    $146.92   53477870  $145.66  $147.4701    $145.56\n",
       "1  09/23/2021    $146.83   64838170  $146.65    $147.08    $145.64\n",
       "2  09/22/2021    $145.85   76404340  $144.45    $146.43  $143.7001\n",
       "3  09/21/2021    $143.43   75833960  $143.93     $144.6    $142.78\n",
       "4  09/20/2021    $142.94  123478900   $143.8    $144.84    $141.27"
      ]
     },
     "execution_count": 5,
     "metadata": {},
     "output_type": "execute_result"
    }
   ],
   "source": [
    "# Previewing what the data looks like\n",
    "\n",
    "aapl_hist.head()"
   ]
  },
  {
   "cell_type": "code",
   "execution_count": 6,
   "id": "13e982f8",
   "metadata": {},
   "outputs": [
    {
     "data": {
      "text/plain": [
       "str"
      ]
     },
     "execution_count": 6,
     "metadata": {},
     "output_type": "execute_result"
    }
   ],
   "source": [
    "# As we can see by the output, Close/Last is of type string\n",
    "\n",
    "type(aapl_hist[\"Close/Last\"].max())\n"
   ]
  },
  {
   "cell_type": "code",
   "execution_count": 7,
   "id": "ed84ebdd",
   "metadata": {},
   "outputs": [
    {
     "name": "stderr",
     "output_type": "stream",
     "text": [
      "<ipython-input-7-f96818d6c37f>:4: SettingWithCopyWarning: \n",
      "A value is trying to be set on a copy of a slice from a DataFrame\n",
      "\n",
      "See the caveats in the documentation: https://pandas.pydata.org/pandas-docs/stable/user_guide/indexing.html#returning-a-view-versus-a-copy\n",
      "  aapl_hist[\"Close/Last\"][i] = float(aapl_hist[\"Close/Last\"][i][1:])\n"
     ]
    }
   ],
   "source": [
    "# Let's convert it into a float so we can do calculations on it!\n",
    "\n",
    "for i in range(0, len(aapl_hist[\"Close/Last\"])):\n",
    "    aapl_hist[\"Close/Last\"][i] = float(aapl_hist[\"Close/Last\"][i][1:])\n"
   ]
  },
  {
   "cell_type": "code",
   "execution_count": 8,
   "id": "f2a3c8ed",
   "metadata": {},
   "outputs": [
    {
     "data": {
      "text/plain": [
       "float"
      ]
     },
     "execution_count": 8,
     "metadata": {},
     "output_type": "execute_result"
    }
   ],
   "source": [
    "# Fixed!\n",
    "\n",
    "type(aapl_hist[\"Close/Last\"].max())\n"
   ]
  },
  {
   "cell_type": "code",
   "execution_count": 9,
   "id": "dcbd9b9f",
   "metadata": {},
   "outputs": [
    {
     "name": "stderr",
     "output_type": "stream",
     "text": [
      "<ipython-input-9-e54020d1524a>:4: SettingWithCopyWarning: \n",
      "A value is trying to be set on a copy of a slice from a DataFrame\n",
      "\n",
      "See the caveats in the documentation: https://pandas.pydata.org/pandas-docs/stable/user_guide/indexing.html#returning-a-view-versus-a-copy\n",
      "  aapl_hist.Date[i] = datetime.strptime(aapl_hist.Date[i], '%m/%d/%Y')\n"
     ]
    }
   ],
   "source": [
    "# Similarly, we need to convert the Date column from string to datetime\n",
    "\n",
    "for i in range(0, len(aapl_hist.Date)):\n",
    "    aapl_hist.Date[i] = datetime.strptime(aapl_hist.Date[i], '%m/%d/%Y')"
   ]
  },
  {
   "cell_type": "code",
   "execution_count": 10,
   "id": "25f66614",
   "metadata": {},
   "outputs": [
    {
     "data": {
      "text/plain": [
       "datetime.datetime"
      ]
     },
     "execution_count": 10,
     "metadata": {},
     "output_type": "execute_result"
    }
   ],
   "source": [
    "# Fixed!\n",
    "\n",
    "type(aapl_hist.Date[0])"
   ]
  },
  {
   "cell_type": "code",
   "execution_count": 16,
   "id": "54e2fdd0",
   "metadata": {},
   "outputs": [
    {
     "data": {
      "image/png": "[encoded data removed]",
      "text/plain": [
       "<Figure size 432x288 with 1 Axes>"
      ]
     },
     "metadata": {
      "needs_background": "light"
     },
     "output_type": "display_data"
    }
   ],
   "source": [
    "# Creating a basic, linear plot that tracks closing price over the past six months\n",
    "\n",
    "plt.plot(aapl_hist.Date, aapl_hist[\"Close/Last\"], color = \"green\") \n",
    "plt.title(\"AAPL Closing Price Over Time\")\n",
    "plt.xlabel(\"Date\")\n",
    "plt.ylabel(\"Closing Price USD\")\n",
    "close_max = max(aapl_hist[\"Close/Last\"])\n",
    "close_min = min(aapl_hist[\"Close/Last\"])\n",
    "difference = close_max - close_min\n",
    "increment = difference / 8\n",
    "closing_price_ticks = [close_min]\n",
    "temp = close_min\n",
    "while temp < close_max:\n",
    "    temp = temp + increment\n",
    "    closing_price_ticks.append(round(temp,2))\n",
    "plt.grid()\n",
    "plt.legend([\"Share Price\"])\n",
    "plt.show()"
   ]
  },
  {
   "cell_type": "code",
   "execution_count": 19,
   "id": "2d6ba43d",
   "metadata": {},
   "outputs": [
    {
     "ename": "TypeError",
     "evalue": "'float' object is not subscriptable",
     "output_type": "error",
     "traceback": [
      "\u001b[0;31m---------------------------------------------------------------------------\u001b[0m",
      "\u001b[0;31mTypeError\u001b[0m                                 Traceback (most recent call last)",
      "\u001b[0;32m<ipython-input-19-81838c284e40>\u001b[0m in \u001b[0;36m<module>\u001b[0;34m\u001b[0m\n\u001b[1;32m      5\u001b[0m \u001b[0;34m\u001b[0m\u001b[0m\n\u001b[1;32m      6\u001b[0m \u001b[0;32mfor\u001b[0m \u001b[0mi\u001b[0m \u001b[0;32min\u001b[0m \u001b[0mrange\u001b[0m\u001b[0;34m(\u001b[0m\u001b[0;36m0\u001b[0m\u001b[0;34m,\u001b[0m \u001b[0mlen\u001b[0m\u001b[0;34m(\u001b[0m\u001b[0maapl_hist\u001b[0m\u001b[0;34m.\u001b[0m\u001b[0mHigh\u001b[0m\u001b[0;34m)\u001b[0m\u001b[0;34m)\u001b[0m\u001b[0;34m:\u001b[0m\u001b[0;34m\u001b[0m\u001b[0;34m\u001b[0m\u001b[0m\n\u001b[0;32m----> 7\u001b[0;31m     \u001b[0maapl_hist\u001b[0m\u001b[0;34m.\u001b[0m\u001b[0mHigh\u001b[0m\u001b[0;34m[\u001b[0m\u001b[0mi\u001b[0m\u001b[0;34m]\u001b[0m \u001b[0;34m=\u001b[0m \u001b[0mfloat\u001b[0m\u001b[0;34m(\u001b[0m\u001b[0maapl_hist\u001b[0m\u001b[0;34m.\u001b[0m\u001b[0mHigh\u001b[0m\u001b[0;34m[\u001b[0m\u001b[0mi\u001b[0m\u001b[0;34m]\u001b[0m\u001b[0;34m[\u001b[0m\u001b[0;36m1\u001b[0m\u001b[0;34m:\u001b[0m\u001b[0;34m]\u001b[0m\u001b[0;34m)\u001b[0m\u001b[0;34m\u001b[0m\u001b[0;34m\u001b[0m\u001b[0m\n\u001b[0m\u001b[1;32m      8\u001b[0m \u001b[0;34m\u001b[0m\u001b[0m\n\u001b[1;32m      9\u001b[0m \u001b[0;32mfor\u001b[0m \u001b[0mi\u001b[0m \u001b[0;32min\u001b[0m \u001b[0mrange\u001b[0m\u001b[0;34m(\u001b[0m\u001b[0;36m0\u001b[0m\u001b[0;34m,\u001b[0m \u001b[0mlen\u001b[0m\u001b[0;34m(\u001b[0m\u001b[0maapl_hist\u001b[0m\u001b[0;34m.\u001b[0m\u001b[0mLow\u001b[0m\u001b[0;34m)\u001b[0m\u001b[0;34m)\u001b[0m\u001b[0;34m:\u001b[0m\u001b[0;34m\u001b[0m\u001b[0;34m\u001b[0m\u001b[0m\n",
      "\u001b[0;31mTypeError\u001b[0m: 'float' object is not subscriptable"
     ]
    }
   ],
   "source": [
    "# Now that we have an idea of how the closing price has trended...\n",
    "# Let us see how much the stock \"swings\" on a daily basis\n",
    "# To do this, we will create another column called volatility by taking the difference of High and Low\n",
    "# We will also need to convert High and Low to float\n",
    "\n",
    "for i in range(0, len(aapl_hist.High)):\n",
    "    aapl_hist.High[i] = float(aapl_hist.High[i][1:])\n",
    "    \n",
    "for i in range(0, len(aapl_hist.Low)):\n",
    "    aapl_hist.Low[i] = float(aapl_hist.Low[i][1:])\n"
   ]
  },
  {
   "cell_type": "code",
   "execution_count": 20,
   "id": "ea5ecccd",
   "metadata": {},
   "outputs": [
    {
     "name": "stdout",
     "output_type": "stream",
     "text": [
      "[1.91, 1.44, 2.73, 1.82, 3.57, 3.06, 1.75, 3.07, 4.16, 2.67, 6.78, 2.16, 3.06, 2.87, 1.54, 2.32, 2.64, 1.51, 4.88, 1.92, 1.61, 2.52, 1.71, 2.3, 1.72, 3.5, 4.57, 2.59, 4.72, 1.17, 3.21, 1.19, 2.41, 1.18, 1.48, 1.67, 1.51, 2.86, 1.7, 2.22, 1.97, 4.43, 3.66, 2.13, 1.8, 2.38, 1.5, 4.14, 2.4, 3.88, 2.91, 1.89, 3.83, 2.32, 3.0, 3.4, 2.23, 3.08, 2.25, 1.57, 1.54, 2.14, 1.9, 1.08, 1.71, 1.09, 2.46, 3.2, 1.27, 2.9, 2.43, 1.21, 3.47, 1.34, 2.25, 1.23, 2.25, 1.49, 2.31, 1.72, 1.19, 1.41, 1.25, 2.56, 0.97, 2.0, 2.0, 2.79, 2.62, 2.06, 2.21, 1.76, 2.04, 1.89, 2.39, 3.5, 2.73, 1.78, 2.62, 2.48, 4.79, 2.24, 2.5, 4.62, 1.94, 1.3, 1.5, 2.96, 2.74, 2.45, 3.72, 2.13, 1.39, 1.36, 3.34, 2.73, 2.22, 3.57, 1.87, 2.78, 1.48, 3.09, 1.69, 2.37, 1.54, 1.85]\n"
     ]
    }
   ],
   "source": [
    "# Creating Volatility column\n",
    "\n",
    "volatility = []\n",
    "\n",
    "for i in range(0, len(aapl_hist.High)):\n",
    "    swing = aapl_hist.High[i] - aapl_hist.Low[i]\n",
    "    volatility.append(round(swing, 2))\n",
    "    \n",
    "print(volatility)"
   ]
  },
  {
   "cell_type": "code",
   "execution_count": 25,
   "id": "9f24bbeb",
   "metadata": {},
   "outputs": [
    {
     "data": {
      "text/html": [
       "<div>\n",
       "<style scoped>\n",
       "    .dataframe tbody tr th:only-of-type {\n",
       "        vertical-align: middle;\n",
       "    }\n",
       "\n",
       "    .dataframe tbody tr th {\n",
       "        vertical-align: top;\n",
       "    }\n",
       "\n",
       "    .dataframe thead th {\n",
       "        text-align: right;\n",
       "    }\n",
       "</style>\n",
       "<table border=\"1\" class=\"dataframe\">\n",
       "  <thead>\n",
       "    <tr style=\"text-align: right;\">\n",
       "      <th></th>\n",
       "      <th>Date</th>\n",
       "      <th>Close/Last</th>\n",
       "      <th>Volume</th>\n",
       "      <th>Open</th>\n",
       "      <th>High</th>\n",
       "      <th>Low</th>\n",
       "      <th>Volatility</th>\n",
       "    </tr>\n",
       "  </thead>\n",
       "  <tbody>\n",
       "    <tr>\n",
       "      <th>0</th>\n",
       "      <td>2021-09-24 00:00:00</td>\n",
       "      <td>146.92</td>\n",
       "      <td>53477870</td>\n",
       "      <td>$145.66</td>\n",
       "      <td>147.4701</td>\n",
       "      <td>145.56</td>\n",
       "      <td>1.91</td>\n",
       "    </tr>\n",
       "    <tr>\n",
       "      <th>1</th>\n",
       "      <td>2021-09-23 00:00:00</td>\n",
       "      <td>146.83</td>\n",
       "      <td>64838170</td>\n",
       "      <td>$146.65</td>\n",
       "      <td>147.08</td>\n",
       "      <td>145.64</td>\n",
       "      <td>1.44</td>\n",
       "    </tr>\n",
       "    <tr>\n",
       "      <th>2</th>\n",
       "      <td>2021-09-22 00:00:00</td>\n",
       "      <td>145.85</td>\n",
       "      <td>76404340</td>\n",
       "      <td>$144.45</td>\n",
       "      <td>146.43</td>\n",
       "      <td>143.7001</td>\n",
       "      <td>2.73</td>\n",
       "    </tr>\n",
       "    <tr>\n",
       "      <th>3</th>\n",
       "      <td>2021-09-21 00:00:00</td>\n",
       "      <td>143.43</td>\n",
       "      <td>75833960</td>\n",
       "      <td>$143.93</td>\n",
       "      <td>144.6</td>\n",
       "      <td>142.78</td>\n",
       "      <td>1.82</td>\n",
       "    </tr>\n",
       "    <tr>\n",
       "      <th>4</th>\n",
       "      <td>2021-09-20 00:00:00</td>\n",
       "      <td>142.94</td>\n",
       "      <td>123478900</td>\n",
       "      <td>$143.8</td>\n",
       "      <td>144.84</td>\n",
       "      <td>141.27</td>\n",
       "      <td>3.57</td>\n",
       "    </tr>\n",
       "  </tbody>\n",
       "</table>\n",
       "</div>"
      ],
      "text/plain": [
       "                  Date Close/Last     Volume     Open      High       Low  \\\n",
       "0  2021-09-24 00:00:00     146.92   53477870  $145.66  147.4701    145.56   \n",
       "1  2021-09-23 00:00:00     146.83   64838170  $146.65    147.08    145.64   \n",
       "2  2021-09-22 00:00:00     145.85   76404340  $144.45    146.43  143.7001   \n",
       "3  2021-09-21 00:00:00     143.43   75833960  $143.93     144.6    142.78   \n",
       "4  2021-09-20 00:00:00     142.94  123478900   $143.8    144.84    141.27   \n",
       "\n",
       "   Volatility  \n",
       "0        1.91  \n",
       "1        1.44  \n",
       "2        2.73  \n",
       "3        1.82  \n",
       "4        3.57  "
      ]
     },
     "execution_count": 25,
     "metadata": {},
     "output_type": "execute_result"
    }
   ],
   "source": [
    "# Appending it to our main dataframe\n",
    "\n",
    "aapl_hist[\"Volatility\"] = volatility\n",
    "\n",
    "aapl_hist.head()"
   ]
  },
  {
   "cell_type": "code",
   "execution_count": 26,
   "id": "8baadc37",
   "metadata": {},
   "outputs": [
    {
     "data": {
      "image/png": "[encoded data removed]",
      "text/plain": [
       "<Figure size 432x288 with 1 Axes>"
      ]
     },
     "metadata": {
      "needs_background": "light"
     },
     "output_type": "display_data"
    }
   ],
   "source": [
    "# Now, let's graph our volatility!\n",
    "\n",
    "plt.plot(aapl_hist.Date, aapl_hist.Volatility, color = \"red\") \n",
    "plt.title(\"AAPL Share Price Volatility\")\n",
    "plt.xlabel(\"Date\")\n",
    "plt.ylabel(\"Swing in Price USD\")\n",
    "swing_max = max(aapl_hist.Volatility)\n",
    "swing_min = min(aapl_hist.Volatility)\n",
    "swing_difference = swing_max - swing_min\n",
    "swing_increment = swing_difference / 8\n",
    "swing_price_ticks = [swing_min]\n",
    "swing_temp = swing_min\n",
    "while swing_temp < swing_max:\n",
    "    swing_temp = swing_temp + swing_increment\n",
    "    swing_price_ticks.append(round(swing_temp,2))\n",
    "plt.grid()\n",
    "plt.legend([\"Swing\"])\n",
    "plt.show()"
   ]
  },
  {
   "cell_type": "code",
   "execution_count": 27,
   "id": "bea1dfc9",
   "metadata": {},
   "outputs": [
    {
     "name": "stderr",
     "output_type": "stream",
     "text": [
      "<ipython-input-27-65e62f18fe46>:11: SettingWithCopyWarning: \n",
      "A value is trying to be set on a copy of a slice from a DataFrame\n",
      "\n",
      "See the caveats in the documentation: https://pandas.pydata.org/pandas-docs/stable/user_guide/indexing.html#returning-a-view-versus-a-copy\n",
      "  msft_hist[\"Close/Last\"][i] = float(msft_hist[\"Close/Last\"][i][1:])\n",
      "<ipython-input-27-65e62f18fe46>:14: SettingWithCopyWarning: \n",
      "A value is trying to be set on a copy of a slice from a DataFrame\n",
      "\n",
      "See the caveats in the documentation: https://pandas.pydata.org/pandas-docs/stable/user_guide/indexing.html#returning-a-view-versus-a-copy\n",
      "  amzn_hist[\"Close/Last\"][i] = float(amzn_hist[\"Close/Last\"][i][1:])\n",
      "<ipython-input-27-65e62f18fe46>:17: SettingWithCopyWarning: \n",
      "A value is trying to be set on a copy of a slice from a DataFrame\n",
      "\n",
      "See the caveats in the documentation: https://pandas.pydata.org/pandas-docs/stable/user_guide/indexing.html#returning-a-view-versus-a-copy\n",
      "  msft_hist.Date[i] = datetime.strptime(msft_hist.Date[i], '%m/%d/%Y')\n",
      "<ipython-input-27-65e62f18fe46>:20: SettingWithCopyWarning: \n",
      "A value is trying to be set on a copy of a slice from a DataFrame\n",
      "\n",
      "See the caveats in the documentation: https://pandas.pydata.org/pandas-docs/stable/user_guide/indexing.html#returning-a-view-versus-a-copy\n",
      "  amzn_hist.Date[i] = datetime.strptime(amzn_hist.Date[i], '%m/%d/%Y')\n"
     ]
    }
   ],
   "source": [
    "# Now that we have seen trends and share price, let us compare\n",
    "# How Apple's closing stock price has competed with Microsoft (MSFT) and Amazon (AMZN)!\n",
    "# Microsoft data source\n",
    "\n",
    "msft_hist = pd.read_csv(\"microsoft_stock.csv\")\n",
    "amzn_hist = pd.read_csv(\"amazon_stock.csv\")\n",
    "\n",
    "# Need to convert data for MSFT and AMZN like we did for AAPL\n",
    "\n",
    "for i in range(0, len(msft_hist[\"Close/Last\"])):\n",
    "    msft_hist[\"Close/Last\"][i] = float(msft_hist[\"Close/Last\"][i][1:])\n",
    "    \n",
    "for i in range(0, len(amzn_hist[\"Close/Last\"])):\n",
    "    amzn_hist[\"Close/Last\"][i] = float(amzn_hist[\"Close/Last\"][i][1:])\n",
    "    \n",
    "for i in range(0, len(msft_hist.Date)):\n",
    "    msft_hist.Date[i] = datetime.strptime(msft_hist.Date[i], '%m/%d/%Y')\n",
    "    \n",
    "for i in range(0, len(amzn_hist.Date)):\n",
    "    amzn_hist.Date[i] = datetime.strptime(amzn_hist.Date[i], '%m/%d/%Y')\n",
    "    \n"
   ]
  },
  {
   "cell_type": "code",
   "execution_count": 34,
   "id": "5d44a6d7",
   "metadata": {},
   "outputs": [
    {
     "data": {
      "image/png": "[encoded data removed]",
      "text/plain": [
       "<Figure size 432x288 with 1 Axes>"
      ]
     },
     "metadata": {
      "needs_background": "light"
     },
     "output_type": "display_data"
    }
   ],
   "source": [
    "# Graphing!\n",
    "\n",
    "plt.plot(aapl_hist.Date, aapl_hist[\"Close/Last\"], color = \"green\") \n",
    "plt.plot(msft_hist.Date, msft_hist[\"Close/Last\"], color = \"blue\")\n",
    "plt.plot(amzn_hist.Date, amzn_hist[\"Close/Last\"], color = \"purple\")\n",
    "plt.title(\"Comparison of AAPL, AMZN, and MSFT's Closing Share Prices\")\n",
    "plt.xlabel(\"Date\")\n",
    "plt.ylabel(\"Closing Price USD\")\n",
    "close_max = max([max(aapl_hist[\"Close/Last\"]), max(amzn_hist[\"Close/Last\"]), max(msft_hist[\"Close/Last\"])])\n",
    "close_min = min([min(aapl_hist[\"Close/Last\"]), min(amzn_hist[\"Close/Last\"]), min(msft_hist[\"Close/Last\"])])\n",
    "difference = close_max - close_min\n",
    "increment = difference / 8\n",
    "closing_price_ticks = [close_min]\n",
    "temp = close_min\n",
    "while temp < close_max:\n",
    "    temp = temp + increment\n",
    "    closing_price_ticks.append(round(temp,2))\n",
    "plt.grid()\n",
    "plt.legend([\"AAPL\", \"MSFT\", \"AMZN\"])\n",
    "plt.show()"
   ]
  },
  {
   "cell_type": "code",
   "execution_count": 35,
   "id": "22dd7f9b",
   "metadata": {},
   "outputs": [
    {
     "data": {
      "image/png": "[encoded data removed]",
      "text/plain": [
       "<Figure size 432x288 with 1 Axes>"
      ]
     },
     "metadata": {
      "needs_background": "light"
     },
     "output_type": "display_data"
    }
   ],
   "source": [
    "# Here is a comparison without Amazon's stock since it is much larger...\n",
    "\n",
    "plt.plot(aapl_hist.Date, aapl_hist[\"Close/Last\"], color = \"green\") \n",
    "plt.plot(msft_hist.Date, msft_hist[\"Close/Last\"], color = \"blue\")\n",
    "plt.title(\"Comparison of AAPL and MSFT's Closing Share Prices\")\n",
    "plt.xlabel(\"Date\")\n",
    "plt.ylabel(\"Closing Price USD\")\n",
    "close_max = max([max(aapl_hist[\"Close/Last\"]), max(msft_hist[\"Close/Last\"])])\n",
    "close_min = min([min(aapl_hist[\"Close/Last\"]), min(msft_hist[\"Close/Last\"])])\n",
    "difference = close_max - close_min\n",
    "increment = difference / 8\n",
    "closing_price_ticks = [close_min]\n",
    "temp = close_min\n",
    "while temp < close_max:\n",
    "    temp = temp + increment\n",
    "    closing_price_ticks.append(round(temp,2))\n",
    "plt.grid()\n",
    "plt.legend([\"AAPL\", \"MSFT\"])\n",
    "plt.show()"
   ]
  },
  {
   "cell_type": "code",
   "execution_count": null,
   "id": "78b9ae15",
   "metadata": {},
   "outputs": [],
   "source": []
  }
 ],
 "metadata": {
  "kernelspec": {
   "display_name": "Python 3",
   "language": "python",
   "name": "python3"
  },
  "language_info": {
   "codemirror_mode": {
    "name": "ipython",
    "version": 3
   },
   "file_extension": ".py",
   "mimetype": "text/x-python",
   "name": "python",
   "nbconvert_exporter": "python",
   "pygments_lexer": "ipython3",
   "version": "3.8.8"
  }
 },
 "nbformat": 4,
 "nbformat_minor": 5
}
