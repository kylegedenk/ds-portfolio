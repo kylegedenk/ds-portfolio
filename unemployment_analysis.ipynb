{
 "cells": [
  {
   "cell_type": "code",
   "execution_count": 1,
   "id": "40cae259",
   "metadata": {},
   "outputs": [],
   "source": [
    "# In this code, we explore unemployment data from that past 20 years\n",
    "# Source: https://fred.stlouisfed.org/series/UNRATE"
   ]
  },
  {
   "cell_type": "code",
   "execution_count": 23,
   "id": "53430487",
   "metadata": {},
   "outputs": [],
   "source": [
    "import pandas as pd\n",
    "import numpy as np\n",
    "from matplotlib import pyplot as plt"
   ]
  },
  {
   "cell_type": "code",
   "execution_count": 24,
   "id": "a913d598",
   "metadata": {},
   "outputs": [],
   "source": [
    "unrate = pd.read_csv(\"unrate.csv\", index_col = \"DATE\")"
   ]
  },
  {
   "cell_type": "code",
   "execution_count": 25,
   "id": "85a03de4",
   "metadata": {},
   "outputs": [
    {
     "data": {
      "text/html": [
       "<div>\n",
       "<style scoped>\n",
       "    .dataframe tbody tr th:only-of-type {\n",
       "        vertical-align: middle;\n",
       "    }\n",
       "\n",
       "    .dataframe tbody tr th {\n",
       "        vertical-align: top;\n",
       "    }\n",
       "\n",
       "    .dataframe thead th {\n",
       "        text-align: right;\n",
       "    }\n",
       "</style>\n",
       "<table border=\"1\" class=\"dataframe\">\n",
       "  <thead>\n",
       "    <tr style=\"text-align: right;\">\n",
       "      <th></th>\n",
       "      <th>UNRATE</th>\n",
       "    </tr>\n",
       "    <tr>\n",
       "      <th>DATE</th>\n",
       "      <th></th>\n",
       "    </tr>\n",
       "  </thead>\n",
       "  <tbody>\n",
       "    <tr>\n",
       "      <th>2000-01-01</th>\n",
       "      <td>4.0</td>\n",
       "    </tr>\n",
       "    <tr>\n",
       "      <th>2000-02-01</th>\n",
       "      <td>4.1</td>\n",
       "    </tr>\n",
       "    <tr>\n",
       "      <th>2000-03-01</th>\n",
       "      <td>4.0</td>\n",
       "    </tr>\n",
       "    <tr>\n",
       "      <th>2000-04-01</th>\n",
       "      <td>3.8</td>\n",
       "    </tr>\n",
       "    <tr>\n",
       "      <th>2000-05-01</th>\n",
       "      <td>4.0</td>\n",
       "    </tr>\n",
       "  </tbody>\n",
       "</table>\n",
       "</div>"
      ],
      "text/plain": [
       "            UNRATE\n",
       "DATE              \n",
       "2000-01-01     4.0\n",
       "2000-02-01     4.1\n",
       "2000-03-01     4.0\n",
       "2000-04-01     3.8\n",
       "2000-05-01     4.0"
      ]
     },
     "execution_count": 25,
     "metadata": {},
     "output_type": "execute_result"
    }
   ],
   "source": [
    "unrate.head()"
   ]
  },
  {
   "cell_type": "code",
   "execution_count": 26,
   "id": "b21e3333",
   "metadata": {},
   "outputs": [
    {
     "name": "stdout",
     "output_type": "stream",
     "text": [
      "Data types of each column\n",
      "UNRATE    float64\n",
      "dtype: object\n"
     ]
    }
   ],
   "source": [
    "# Checking the types of our columns\n",
    "\n",
    "unrate_type_series = unrate.dtypes\n",
    "print(\"Data types of each column\")\n",
    "print(unrate_type_series)"
   ]
  },
  {
   "cell_type": "code",
   "execution_count": 27,
   "id": "6731d9cb",
   "metadata": {},
   "outputs": [],
   "source": [
    "# Saving cleaned version of data\n",
    "\n",
    "unrate.to_csv(r\"/Users/kylegedenk/Desktop/Coding Practice/CLEAN_UNRATE.csv\")"
   ]
  },
  {
   "cell_type": "code",
   "execution_count": null,
   "id": "79093acd",
   "metadata": {},
   "outputs": [],
   "source": []
  }
 ],
 "metadata": {
  "kernelspec": {
   "display_name": "Python 3",
   "language": "python",
   "name": "python3"
  },
  "language_info": {
   "codemirror_mode": {
    "name": "ipython",
    "version": 3
   },
   "file_extension": ".py",
   "mimetype": "text/x-python",
   "name": "python",
   "nbconvert_exporter": "python",
   "pygments_lexer": "ipython3",
   "version": "3.8.8"
  }
 },
 "nbformat": 4,
 "nbformat_minor": 5
}
