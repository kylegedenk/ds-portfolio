{
 "cells": [
  {
   "cell_type": "code",
   "execution_count": 1,
   "id": "6ba5c8b5",
   "metadata": {},
   "outputs": [],
   "source": [
    "# Here, we will evaluate and examine trends in used Hyundais for sale\n",
    "# Source: https://www.kaggle.com/mysarahmadbhat/hyundai-used-car-listing"
   ]
  },
  {
   "cell_type": "code",
   "execution_count": 2,
   "id": "40298c7d",
   "metadata": {},
   "outputs": [],
   "source": [
    "import numpy as np\n",
    "import pandas as pd\n",
    "from matplotlib import pyplot as plt\n",
    "import datetime as datetime"
   ]
  },
  {
   "cell_type": "code",
   "execution_count": 3,
   "id": "3aedfc6a",
   "metadata": {},
   "outputs": [],
   "source": [
    "hyundai = pd.read_csv(\"hyundi.csv\")"
   ]
  },
  {
   "cell_type": "code",
   "execution_count": 4,
   "id": "d6f0c99b",
   "metadata": {},
   "outputs": [
    {
     "data": {
      "text/html": [
       "<div>\n",
       "<style scoped>\n",
       "    .dataframe tbody tr th:only-of-type {\n",
       "        vertical-align: middle;\n",
       "    }\n",
       "\n",
       "    .dataframe tbody tr th {\n",
       "        vertical-align: top;\n",
       "    }\n",
       "\n",
       "    .dataframe thead th {\n",
       "        text-align: right;\n",
       "    }\n",
       "</style>\n",
       "<table border=\"1\" class=\"dataframe\">\n",
       "  <thead>\n",
       "    <tr style=\"text-align: right;\">\n",
       "      <th></th>\n",
       "      <th>model</th>\n",
       "      <th>year</th>\n",
       "      <th>price</th>\n",
       "      <th>transmission</th>\n",
       "      <th>mileage</th>\n",
       "      <th>fuelType</th>\n",
       "      <th>tax(£)</th>\n",
       "      <th>mpg</th>\n",
       "      <th>engineSize</th>\n",
       "    </tr>\n",
       "  </thead>\n",
       "  <tbody>\n",
       "    <tr>\n",
       "      <th>0</th>\n",
       "      <td>I20</td>\n",
       "      <td>2017</td>\n",
       "      <td>7999</td>\n",
       "      <td>Manual</td>\n",
       "      <td>17307</td>\n",
       "      <td>Petrol</td>\n",
       "      <td>145</td>\n",
       "      <td>58.9</td>\n",
       "      <td>1.2</td>\n",
       "    </tr>\n",
       "    <tr>\n",
       "      <th>1</th>\n",
       "      <td>Tucson</td>\n",
       "      <td>2016</td>\n",
       "      <td>14499</td>\n",
       "      <td>Automatic</td>\n",
       "      <td>25233</td>\n",
       "      <td>Diesel</td>\n",
       "      <td>235</td>\n",
       "      <td>43.5</td>\n",
       "      <td>2.0</td>\n",
       "    </tr>\n",
       "    <tr>\n",
       "      <th>2</th>\n",
       "      <td>Tucson</td>\n",
       "      <td>2016</td>\n",
       "      <td>11399</td>\n",
       "      <td>Manual</td>\n",
       "      <td>37877</td>\n",
       "      <td>Diesel</td>\n",
       "      <td>30</td>\n",
       "      <td>61.7</td>\n",
       "      <td>1.7</td>\n",
       "    </tr>\n",
       "    <tr>\n",
       "      <th>3</th>\n",
       "      <td>I10</td>\n",
       "      <td>2016</td>\n",
       "      <td>6499</td>\n",
       "      <td>Manual</td>\n",
       "      <td>23789</td>\n",
       "      <td>Petrol</td>\n",
       "      <td>20</td>\n",
       "      <td>60.1</td>\n",
       "      <td>1.0</td>\n",
       "    </tr>\n",
       "    <tr>\n",
       "      <th>4</th>\n",
       "      <td>IX35</td>\n",
       "      <td>2015</td>\n",
       "      <td>10199</td>\n",
       "      <td>Manual</td>\n",
       "      <td>33177</td>\n",
       "      <td>Diesel</td>\n",
       "      <td>160</td>\n",
       "      <td>51.4</td>\n",
       "      <td>2.0</td>\n",
       "    </tr>\n",
       "  </tbody>\n",
       "</table>\n",
       "</div>"
      ],
      "text/plain": [
       "     model  year  price transmission  mileage fuelType  tax(£)   mpg  \\\n",
       "0      I20  2017   7999       Manual    17307   Petrol     145  58.9   \n",
       "1   Tucson  2016  14499    Automatic    25233   Diesel     235  43.5   \n",
       "2   Tucson  2016  11399       Manual    37877   Diesel      30  61.7   \n",
       "3      I10  2016   6499       Manual    23789   Petrol      20  60.1   \n",
       "4     IX35  2015  10199       Manual    33177   Diesel     160  51.4   \n",
       "\n",
       "   engineSize  \n",
       "0         1.2  \n",
       "1         2.0  \n",
       "2         1.7  \n",
       "3         1.0  \n",
       "4         2.0  "
      ]
     },
     "execution_count": 4,
     "metadata": {},
     "output_type": "execute_result"
    }
   ],
   "source": [
    "hyundai.head()"
   ]
  },
  {
   "cell_type": "code",
   "execution_count": 5,
   "id": "ac27e2ce",
   "metadata": {},
   "outputs": [
    {
     "data": {
      "text/html": [
       "<div>\n",
       "<style scoped>\n",
       "    .dataframe tbody tr th:only-of-type {\n",
       "        vertical-align: middle;\n",
       "    }\n",
       "\n",
       "    .dataframe tbody tr th {\n",
       "        vertical-align: top;\n",
       "    }\n",
       "\n",
       "    .dataframe thead th {\n",
       "        text-align: right;\n",
       "    }\n",
       "</style>\n",
       "<table border=\"1\" class=\"dataframe\">\n",
       "  <thead>\n",
       "    <tr style=\"text-align: right;\">\n",
       "      <th></th>\n",
       "      <th>year</th>\n",
       "      <th>price</th>\n",
       "      <th>mileage</th>\n",
       "      <th>tax(£)</th>\n",
       "      <th>mpg</th>\n",
       "      <th>engineSize</th>\n",
       "    </tr>\n",
       "  </thead>\n",
       "  <tbody>\n",
       "    <tr>\n",
       "      <th>count</th>\n",
       "      <td>4860.000000</td>\n",
       "      <td>4860.00000</td>\n",
       "      <td>4860.000000</td>\n",
       "      <td>4860.000000</td>\n",
       "      <td>4860.000000</td>\n",
       "      <td>4860.000000</td>\n",
       "    </tr>\n",
       "    <tr>\n",
       "      <th>mean</th>\n",
       "      <td>2017.107613</td>\n",
       "      <td>12750.13107</td>\n",
       "      <td>21486.049588</td>\n",
       "      <td>121.147119</td>\n",
       "      <td>53.827798</td>\n",
       "      <td>1.457922</td>\n",
       "    </tr>\n",
       "    <tr>\n",
       "      <th>std</th>\n",
       "      <td>1.920456</td>\n",
       "      <td>5992.92231</td>\n",
       "      <td>17710.196964</td>\n",
       "      <td>58.003289</td>\n",
       "      <td>12.736042</td>\n",
       "      <td>0.400788</td>\n",
       "    </tr>\n",
       "    <tr>\n",
       "      <th>min</th>\n",
       "      <td>2000.000000</td>\n",
       "      <td>1200.00000</td>\n",
       "      <td>1.000000</td>\n",
       "      <td>0.000000</td>\n",
       "      <td>1.100000</td>\n",
       "      <td>0.000000</td>\n",
       "    </tr>\n",
       "    <tr>\n",
       "      <th>25%</th>\n",
       "      <td>2016.000000</td>\n",
       "      <td>8000.00000</td>\n",
       "      <td>8339.250000</td>\n",
       "      <td>125.000000</td>\n",
       "      <td>44.800000</td>\n",
       "      <td>1.200000</td>\n",
       "    </tr>\n",
       "    <tr>\n",
       "      <th>50%</th>\n",
       "      <td>2017.000000</td>\n",
       "      <td>11990.00000</td>\n",
       "      <td>17462.000000</td>\n",
       "      <td>145.000000</td>\n",
       "      <td>55.400000</td>\n",
       "      <td>1.600000</td>\n",
       "    </tr>\n",
       "    <tr>\n",
       "      <th>75%</th>\n",
       "      <td>2019.000000</td>\n",
       "      <td>15733.75000</td>\n",
       "      <td>30967.000000</td>\n",
       "      <td>145.000000</td>\n",
       "      <td>60.100000</td>\n",
       "      <td>1.700000</td>\n",
       "    </tr>\n",
       "    <tr>\n",
       "      <th>max</th>\n",
       "      <td>2020.000000</td>\n",
       "      <td>92000.00000</td>\n",
       "      <td>138000.000000</td>\n",
       "      <td>555.000000</td>\n",
       "      <td>256.800000</td>\n",
       "      <td>2.900000</td>\n",
       "    </tr>\n",
       "  </tbody>\n",
       "</table>\n",
       "</div>"
      ],
      "text/plain": [
       "              year        price        mileage       tax(£)          mpg  \\\n",
       "count  4860.000000   4860.00000    4860.000000  4860.000000  4860.000000   \n",
       "mean   2017.107613  12750.13107   21486.049588   121.147119    53.827798   \n",
       "std       1.920456   5992.92231   17710.196964    58.003289    12.736042   \n",
       "min    2000.000000   1200.00000       1.000000     0.000000     1.100000   \n",
       "25%    2016.000000   8000.00000    8339.250000   125.000000    44.800000   \n",
       "50%    2017.000000  11990.00000   17462.000000   145.000000    55.400000   \n",
       "75%    2019.000000  15733.75000   30967.000000   145.000000    60.100000   \n",
       "max    2020.000000  92000.00000  138000.000000   555.000000   256.800000   \n",
       "\n",
       "        engineSize  \n",
       "count  4860.000000  \n",
       "mean      1.457922  \n",
       "std       0.400788  \n",
       "min       0.000000  \n",
       "25%       1.200000  \n",
       "50%       1.600000  \n",
       "75%       1.700000  \n",
       "max       2.900000  "
      ]
     },
     "execution_count": 5,
     "metadata": {},
     "output_type": "execute_result"
    }
   ],
   "source": [
    "# Let's learn more...\n",
    "\n",
    "hyundai.describe()"
   ]
  },
  {
   "cell_type": "code",
   "execution_count": 6,
   "id": "1c81f6a6",
   "metadata": {},
   "outputs": [
    {
     "data": {
      "image/png": "[encoded data removed]",
      "text/plain": [
       "<Figure size 432x288 with 1 Axes>"
      ]
     },
     "metadata": {
      "needs_background": "light"
     },
     "output_type": "display_data"
    }
   ],
   "source": [
    "# Let's visualize some of these findings...\n",
    "# First, let's see how old, or new, these listings are\n",
    "\n",
    "years = hyundai.year\n",
    "\n",
    "plt.hist(years, bins = 10, color = 'green')\n",
    "plt.title(\"Histogram of Used Hyundai Model Years\")\n",
    "plt.xlabel(\"Listed Model Year\")\n",
    "plt.ylabel(\"Amount Listed\")\n",
    "plt.grid()\n",
    "plt.show()"
   ]
  },
  {
   "cell_type": "code",
   "execution_count": 7,
   "id": "e8947f54",
   "metadata": {},
   "outputs": [
    {
     "data": {
      "image/png": "[encoded data removed]",
      "text/plain": [
       "<Figure size 432x288 with 1 Axes>"
      ]
     },
     "metadata": {
      "needs_background": "light"
     },
     "output_type": "display_data"
    }
   ],
   "source": [
    "# Now, let's see prices\n",
    "\n",
    "prices = hyundai.price\n",
    "\n",
    "plt.hist(prices, bins = 25, color = \"green\")\n",
    "plt.title(\"Histogram of Used Hyundai Prices\")\n",
    "plt.xlabel(\"Price\")\n",
    "plt.ylabel(\"Amount Listed\")\n",
    "plt.grid()\n",
    "plt.show()"
   ]
  },
  {
   "cell_type": "code",
   "execution_count": 19,
   "id": "15d1b87f",
   "metadata": {},
   "outputs": [
    {
     "data": {
      "image/png": "[encoded data removed]",
      "text/plain": [
       "<Figure size 432x288 with 1 Axes>"
      ]
     },
     "metadata": {},
     "output_type": "display_data"
    }
   ],
   "source": [
    "# How about Manuals versus Automatics?\n",
    "\n",
    "trans = hyundai.transmission\n",
    "\n",
    "categories = []\n",
    "\n",
    "for i in range(0, len(trans)):\n",
    "    if trans[i] not in categories:\n",
    "        categories.append(trans[i])\n",
    "        \n",
    "manual = 0\n",
    "auto = 0\n",
    "semi = 0\n",
    "other = 0\n",
    "\n",
    "for i in range(0, len(trans)):\n",
    "    if trans[i] == \"Manual\":\n",
    "        manual += 1\n",
    "    elif trans[i] == \"Automatic\":\n",
    "        auto += 1\n",
    "    elif trans[i] == \"Semi-Auto\":\n",
    "        semi += 1\n",
    "    else:\n",
    "        other += 1\n",
    "        \n",
    "pie = [manual, auto, semi, other]\n",
    "\n",
    "plt.pie(pie, labels = categories, shadow = True, explode = [0.1, 0, 0, 0], \n",
    "        startangle = 90, wedgeprops = {'edgecolor' : 'black'}, autopct = '%0.1f%%')\n",
    "plt.title(\"Pie Chart of Used Hyundai Transmissions\")\n",
    "plt.show()\n",
    "        \n",
    "        \n"
   ]
  },
  {
   "cell_type": "code",
   "execution_count": 42,
   "id": "29f3d2ae",
   "metadata": {},
   "outputs": [
    {
     "data": {
      "image/png": "[encoded data removed]",
      "text/plain": [
       "<Figure size 432x288 with 1 Axes>"
      ]
     },
     "metadata": {
      "needs_background": "light"
     },
     "output_type": "display_data"
    }
   ],
   "source": [
    "# This is cool, but can we have a bit more insight?\n",
    "# For example, what are the average prices of\n",
    "# an automatic versus a manual on the market?\n",
    "\n",
    "automatic_prices = hyundai.loc[hyundai[\"transmission\"] == \"Automatic\"]\n",
    "manual_prices = hyundai.loc[hyundai[\"transmission\"] == \"Manual\"]\n",
    "\n",
    "ap = automatic_prices.price\n",
    "mp = manual_prices.price\n",
    "\n",
    "ap = ap.tolist()\n",
    "mp = mp.tolist()\n",
    "\n",
    "average_ap = sum(ap) / len(ap)\n",
    "average_mp = sum(mp) / len(mp)\n",
    "\n",
    "comparison = [\"Automatic\", \"Manual\"]\n",
    "results = [average_ap, average_mp]\n",
    "\n",
    "plt.bar(comparison, results, width = 0.6, color = [\"blue\", \"red\"], edgecolor = \"black\")\n",
    "plt.title(\"Average Cost of Automatic Versus Manual Used Hyundais\")\n",
    "plt.show()"
   ]
  },
  {
   "cell_type": "code",
   "execution_count": 43,
   "id": "277ad551",
   "metadata": {},
   "outputs": [],
   "source": [
    "# Let's say that I have a used Hyundai that I want to sell on the market...\n",
    "# Can we predict what I can sell my Hyundai for???\n",
    "\n",
    "from sklearn import linear_model"
   ]
  },
  {
   "cell_type": "code",
   "execution_count": 44,
   "id": "063269e9",
   "metadata": {},
   "outputs": [
    {
     "data": {
      "text/plain": [
       "False"
      ]
     },
     "execution_count": 44,
     "metadata": {},
     "output_type": "execute_result"
    }
   ],
   "source": [
    "# Checking if there are any nan values in hyundai...\n",
    "\n",
    "hyundai.isnull().values.any()"
   ]
  },
  {
   "cell_type": "code",
   "execution_count": 45,
   "id": "c11c42e1",
   "metadata": {},
   "outputs": [
    {
     "data": {
      "text/plain": [
       "LinearRegression()"
      ]
     },
     "execution_count": 45,
     "metadata": {},
     "output_type": "execute_result"
    }
   ],
   "source": [
    "# Let's create a linear model!\n",
    "# I have chosen to use year, mileage, and mpg as features\n",
    "# Our dependent variable is price\n",
    "\n",
    "price_reg = linear_model.LinearRegression()\n",
    "price_reg.fit(hyundai[['year','mileage','mpg']], hyundai.price)"
   ]
  },
  {
   "cell_type": "code",
   "execution_count": 50,
   "id": "05f7f6d7",
   "metadata": {},
   "outputs": [
    {
     "data": {
      "text/plain": [
       "array([ 1.58167489e+03, -1.36444916e-02, -1.04180064e+02])"
      ]
     },
     "execution_count": 50,
     "metadata": {},
     "output_type": "execute_result"
    }
   ],
   "source": [
    "# Taking a look at the coefficients...\n",
    "\n",
    "price_reg.coef_"
   ]
  },
  {
   "cell_type": "code",
   "execution_count": 62,
   "id": "7b97f2f4",
   "metadata": {},
   "outputs": [],
   "source": [
    "# Creating regression function...\n",
    "\n",
    "def used_hyundai_value(model, year, mileage, mpg):\n",
    "    value = round(year * price_reg.coef_[0] + mileage * price_reg.coef_[1] + mpg * price_reg.coef_[2] + price_reg.intercept_, 2)\n",
    "    return \"Your \" + str(year) + \" Hyundai \" + model + \" is worth \" + str(value) + \" pounds!\""
   ]
  },
  {
   "cell_type": "code",
   "execution_count": 63,
   "id": "5d8a338a",
   "metadata": {},
   "outputs": [
    {
     "data": {
      "text/plain": [
       "'Your 2019 Hyundai Civic is worth 16696.87 pounds!'"
      ]
     },
     "execution_count": 63,
     "metadata": {},
     "output_type": "execute_result"
    }
   ],
   "source": [
    "used_hyundai_value(\"Civic\", 2019, 19000, 45)"
   ]
  },
  {
   "cell_type": "code",
   "execution_count": null,
   "id": "ae45d71c",
   "metadata": {},
   "outputs": [],
   "source": []
  }
 ],
 "metadata": {
  "kernelspec": {
   "display_name": "Python 3",
   "language": "python",
   "name": "python3"
  },
  "language_info": {
   "codemirror_mode": {
    "name": "ipython",
    "version": 3
   },
   "file_extension": ".py",
   "mimetype": "text/x-python",
   "name": "python",
   "nbconvert_exporter": "python",
   "pygments_lexer": "ipython3",
   "version": "3.8.8"
  }
 },
 "nbformat": 4,
 "nbformat_minor": 5
}
